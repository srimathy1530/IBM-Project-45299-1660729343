{
  "cells": [
    {
      "cell_type": "code",
      "execution_count": 1,
      "metadata": {
        "id": "7Hab8sxRFyOH"
      },
      "outputs": [],
      "source": [
        "from keras.preprocessing.image import ImageDataGenerator\n",
        "train_datagen=ImageDataGenerator(rescale=1./255,shear_range=0.2,zoom_range=0.2,horizontal_flip=True)\n",
        "test_datagen=ImageDataGenerator(rescale=1)"
      ]
    },
    {
      "cell_type": "code",
      "execution_count": 2,
      "metadata": {
        "colab": {
          "base_uri": "https://localhost:8080/"
        },
        "id": "KfEHyXwPF0yo",
        "outputId": "57de25b5-4caa-42c5-e74d-ac6bf10d09b8"
      },
      "outputs": [
        {
          "output_type": "stream",
          "name": "stdout",
          "text": [
            "Found 11426 images belonging to 9 classes.\n",
            "Found 3416 images belonging to 9 classes.\n"
          ]
        }
      ],
      "source": [
        "x_train=train_datagen.flow_from_directory(r'/content/drive/MyDrive/Fertilizers_Recommendation_ System_For_Disease_ Prediction/Dataset Plant Disease/Veg-dataset/Veg-dataset/train_set',target_size=(128,128),batch_size=2,class_mode='categorical')\n",
        "x_test=test_datagen.flow_from_directory(r'/content/drive/MyDrive/Fertilizers_Recommendation_ System_For_Disease_ Prediction/Dataset Plant Disease/Veg-dataset/Veg-dataset/test_set',target_size=(128,128),batch_size=2,class_mode='categorical')"
      ]
    },
    {
      "cell_type": "code",
      "execution_count": 3,
      "metadata": {
        "id": "TO0JZ_snGNGG"
      },
      "outputs": [],
      "source": [
        "from keras.models import Sequential\n",
        "from keras.layers import Dense\n",
        "from keras.layers import Convolution2D\n",
        "from keras.layers import MaxPooling2D\n",
        "from keras.layers import Flatten"
      ]
    },
    {
      "cell_type": "code",
      "execution_count": 4,
      "metadata": {
        "id": "tNUBBePlGOH3"
      },
      "outputs": [],
      "source": [
        "model=Sequential()"
      ]
    },
    {
      "cell_type": "code",
      "execution_count": 5,
      "metadata": {
        "id": "9ImHSO0EGRYt"
      },
      "outputs": [],
      "source": [
        "model.add(Convolution2D(32,(3,3),input_shape=(128,128,3),activation='relu'))"
      ]
    },
    {
      "cell_type": "code",
      "execution_count": 6,
      "metadata": {
        "id": "nyc0KdeNGUha"
      },
      "outputs": [],
      "source": [
        "model.add(MaxPooling2D(pool_size=(2,2)))"
      ]
    },
    {
      "cell_type": "code",
      "execution_count": 7,
      "metadata": {
        "id": "-bKXL-bQGXSq"
      },
      "outputs": [],
      "source": [
        "model.add(Flatten())"
      ]
    },
    {
      "cell_type": "code",
      "execution_count": 8,
      "metadata": {
        "id": "D2uGZZPPGZub"
      },
      "outputs": [],
      "source": [
        "model.add(Dense(units=300,kernel_initializer='uniform',activation='relu'))"
      ]
    },
    {
      "cell_type": "code",
      "execution_count": 9,
      "metadata": {
        "id": "wSjdSwpzGZ18"
      },
      "outputs": [],
      "source": [
        "model.add(Dense(units=150,kernel_initializer='uniform',activation='relu'))"
      ]
    },
    {
      "cell_type": "code",
      "execution_count": 10,
      "metadata": {
        "id": "UTtzM1tMGgyC"
      },
      "outputs": [],
      "source": [
        "model.add(Dense(units=75,kernel_initializer='uniform',activation='relu'))"
      ]
    },
    {
      "cell_type": "code",
      "execution_count": 11,
      "metadata": {
        "id": "hh6WUGv2Gjcm"
      },
      "outputs": [],
      "source": [
        "model.add(Dense(units=9,kernel_initializer='uniform',activation='softmax'))"
      ]
    },
    {
      "cell_type": "code",
      "execution_count": 12,
      "metadata": {
        "id": "QoKrCcAFGno2"
      },
      "outputs": [],
      "source": [
        "model.compile(loss='categorical_crossentropy',optimizer=\"adam\",metrics=[\"accuracy\"])"
      ]
    },
    {
      "cell_type": "code",
      "execution_count": 13,
      "metadata": {
        "colab": {
          "base_uri": "https://localhost:8080/"
        },
        "id": "3O-fB4NJGsqo",
        "outputId": "5548e544-6ebd-4a3f-c0bb-8f8859981922"
      },
      "outputs": [
        {
          "output_type": "stream",
          "name": "stdout",
          "text": [
            "Epoch 1/20\n",
            "89/89 [==============================] - 81s 902ms/step - loss: 2.1322 - accuracy: 0.1966 - val_loss: 88.9649 - val_accuracy: 0.1111\n",
            "Epoch 2/20\n",
            "89/89 [==============================] - 61s 689ms/step - loss: 2.1133 - accuracy: 0.1742 - val_loss: 70.0825 - val_accuracy: 0.1296\n",
            "Epoch 3/20\n",
            "89/89 [==============================] - 57s 643ms/step - loss: 2.1302 - accuracy: 0.1685 - val_loss: 105.2664 - val_accuracy: 0.0741\n",
            "Epoch 4/20\n",
            "89/89 [==============================] - 61s 687ms/step - loss: 2.1269 - accuracy: 0.1798 - val_loss: 35.7320 - val_accuracy: 0.2222\n",
            "Epoch 5/20\n",
            "89/89 [==============================] - 60s 670ms/step - loss: 2.0792 - accuracy: 0.2472 - val_loss: 182.5451 - val_accuracy: 0.1667\n",
            "Epoch 6/20\n",
            "89/89 [==============================] - 60s 668ms/step - loss: 1.8277 - accuracy: 0.2921 - val_loss: 167.6577 - val_accuracy: 0.3148\n",
            "Epoch 7/20\n",
            "89/89 [==============================] - 57s 635ms/step - loss: 1.8945 - accuracy: 0.2360 - val_loss: 188.5994 - val_accuracy: 0.2407\n",
            "Epoch 8/20\n",
            "89/89 [==============================] - 56s 633ms/step - loss: 1.9696 - accuracy: 0.2416 - val_loss: 169.1316 - val_accuracy: 0.2037\n",
            "Epoch 9/20\n",
            "89/89 [==============================] - 57s 638ms/step - loss: 1.8265 - accuracy: 0.2921 - val_loss: 147.9198 - val_accuracy: 0.2222\n",
            "Epoch 10/20\n",
            "89/89 [==============================] - 58s 650ms/step - loss: 1.7291 - accuracy: 0.3258 - val_loss: 91.7624 - val_accuracy: 0.5000\n",
            "Epoch 11/20\n",
            "89/89 [==============================] - 59s 657ms/step - loss: 1.7223 - accuracy: 0.3652 - val_loss: 225.9035 - val_accuracy: 0.2222\n",
            "Epoch 12/20\n",
            "89/89 [==============================] - 56s 628ms/step - loss: 1.7436 - accuracy: 0.3596 - val_loss: 158.2083 - val_accuracy: 0.3519\n",
            "Epoch 13/20\n",
            "89/89 [==============================] - 57s 640ms/step - loss: 1.8655 - accuracy: 0.2921 - val_loss: 130.2729 - val_accuracy: 0.3519\n",
            "Epoch 14/20\n",
            "89/89 [==============================] - 56s 625ms/step - loss: 1.7674 - accuracy: 0.3202 - val_loss: 133.2466 - val_accuracy: 0.2407\n",
            "Epoch 15/20\n",
            "89/89 [==============================] - 55s 615ms/step - loss: 1.7020 - accuracy: 0.3371 - val_loss: 167.8901 - val_accuracy: 0.2407\n",
            "Epoch 16/20\n",
            "89/89 [==============================] - 56s 627ms/step - loss: 1.6484 - accuracy: 0.3933 - val_loss: 243.4854 - val_accuracy: 0.2593\n",
            "Epoch 17/20\n",
            "89/89 [==============================] - 55s 613ms/step - loss: 1.7030 - accuracy: 0.3315 - val_loss: 165.7718 - val_accuracy: 0.2407\n",
            "Epoch 18/20\n",
            "89/89 [==============================] - 57s 640ms/step - loss: 1.8530 - accuracy: 0.2753 - val_loss: 120.5551 - val_accuracy: 0.3148\n",
            "Epoch 19/20\n",
            "89/89 [==============================] - 53s 596ms/step - loss: 1.6436 - accuracy: 0.3539 - val_loss: 203.1806 - val_accuracy: 0.2593\n",
            "Epoch 20/20\n",
            "89/89 [==============================] - 54s 608ms/step - loss: 1.7180 - accuracy: 0.2865 - val_loss: 155.9574 - val_accuracy: 0.2407\n"
          ]
        },
        {
          "output_type": "execute_result",
          "data": {
            "text/plain": [
              "<keras.callbacks.History at 0x7fbd0c8571d0>"
            ]
          },
          "metadata": {},
          "execution_count": 13
        }
      ],
      "source": [
        "model.fit(x_train,steps_per_epoch=89,epochs=20,validation_data=x_test,validation_steps=27)"
      ]
    },
    {
      "cell_type": "code",
      "execution_count": 14,
      "metadata": {
        "id": "zdBjHzGiG1Wn",
        "colab": {
          "base_uri": "https://localhost:8080/"
        },
        "outputId": "0a750a47-5eb5-4edf-9fc8-bbe50e72860a"
      },
      "outputs": [
        {
          "output_type": "stream",
          "name": "stdout",
          "text": [
            "Model: \"sequential\"\n",
            "_________________________________________________________________\n",
            " Layer (type)                Output Shape              Param #   \n",
            "=================================================================\n",
            " conv2d (Conv2D)             (None, 126, 126, 32)      896       \n",
            "                                                                 \n",
            " max_pooling2d (MaxPooling2D  (None, 63, 63, 32)       0         \n",
            " )                                                               \n",
            "                                                                 \n",
            " flatten (Flatten)           (None, 127008)            0         \n",
            "                                                                 \n",
            " dense (Dense)               (None, 300)               38102700  \n",
            "                                                                 \n",
            " dense_1 (Dense)             (None, 150)               45150     \n",
            "                                                                 \n",
            " dense_2 (Dense)             (None, 75)                11325     \n",
            "                                                                 \n",
            " dense_3 (Dense)             (None, 9)                 684       \n",
            "                                                                 \n",
            "=================================================================\n",
            "Total params: 38,160,755\n",
            "Trainable params: 38,160,755\n",
            "Non-trainable params: 0\n",
            "_________________________________________________________________\n"
          ]
        }
      ],
      "source": [
        "model.summary()"
      ]
    }
  ],
  "metadata": {
    "colab": {
      "provenance": []
    },
    "kernelspec": {
      "display_name": "Python 3",
      "name": "python3"
    },
    "language_info": {
      "name": "python"
    }
  },
  "nbformat": 4,
  "nbformat_minor": 0
}